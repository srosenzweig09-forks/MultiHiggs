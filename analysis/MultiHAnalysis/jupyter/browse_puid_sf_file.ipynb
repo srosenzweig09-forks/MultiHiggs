{
 "cells": [
  {
   "cell_type": "code",
   "execution_count": null,
   "metadata": {},
   "outputs": [],
   "source": []
  },
  {
   "cell_type": "code",
   "execution_count": 2,
   "metadata": {},
   "outputs": [
    {
     "data": {
      "text/plain": [
       "['Run',\n",
       " 'LumiSec',\n",
       " 'Event',\n",
       " 'n_other_pv',\n",
       " 'rhofastjet_all',\n",
       " 'PFHT',\n",
       " 'HEMWeight',\n",
       " 'PUIDWeight',\n",
       " 'PUIDWeight_up',\n",
       " 'PUIDWeight_down',\n",
       " 'triggerScaleFactor',\n",
       " 'triggerDataEfficiency',\n",
       " 'triggerMcEfficiency',\n",
       " 'triggerScaleFactorUp',\n",
       " 'triggerDataEfficiencyUp',\n",
       " 'triggerMcEfficiencyUp',\n",
       " 'triggerScaleFactorDown',\n",
       " 'triggerDataEfficiencyDown',\n",
       " 'triggerMcEfficiencyDown',\n",
       " 'X_m',\n",
       " 'X_pt',\n",
       " 'X_eta',\n",
       " 'X_phi',\n",
       " 'Y_m',\n",
       " 'Y_pt',\n",
       " 'Y_eta',\n",
       " 'Y_phi',\n",
       " 'HX_m',\n",
       " 'HX_pt',\n",
       " 'HX_eta',\n",
       " 'HX_phi',\n",
       " 'H1_m',\n",
       " 'H1_pt',\n",
       " 'H1_eta',\n",
       " 'H1_phi',\n",
       " 'H2_m',\n",
       " 'H2_pt',\n",
       " 'H2_eta',\n",
       " 'H2_phi',\n",
       " 'HX_b1_m',\n",
       " 'HX_b1_pt',\n",
       " 'HX_b1_eta',\n",
       " 'HX_b1_phi',\n",
       " 'HX_b1_btag',\n",
       " 'HX_b2_m',\n",
       " 'HX_b2_pt',\n",
       " 'HX_b2_eta',\n",
       " 'HX_b2_phi',\n",
       " 'HX_b2_btag',\n",
       " 'H1_b1_m',\n",
       " 'H1_b1_pt',\n",
       " 'H1_b1_eta',\n",
       " 'H1_b1_phi',\n",
       " 'H1_b1_btag',\n",
       " 'H1_b2_m',\n",
       " 'H1_b2_pt',\n",
       " 'H1_b2_eta',\n",
       " 'H1_b2_phi',\n",
       " 'H1_b2_btag',\n",
       " 'H2_b1_m',\n",
       " 'H2_b1_pt',\n",
       " 'H2_b1_eta',\n",
       " 'H2_b1_phi',\n",
       " 'H2_b1_btag',\n",
       " 'H2_b2_m',\n",
       " 'H2_b2_pt',\n",
       " 'H2_b2_eta',\n",
       " 'H2_b2_phi',\n",
       " 'H2_b2_btag',\n",
       " 'n_muon',\n",
       " 'n_ele',\n",
       " 'n_total_jet',\n",
       " 'n_jet',\n",
       " 'jet_E',\n",
       " 'jet_m',\n",
       " 'jet_mRegressed',\n",
       " 'jet_pt',\n",
       " 'jet_ptRegressed',\n",
       " 'jet_eta',\n",
       " 'jet_phi',\n",
       " 'jet_signalId',\n",
       " 'jet_btag',\n",
       " 'jet_qgl',\n",
       " 'jet_chEmEF',\n",
       " 'jet_chHEF',\n",
       " 'jet_neEmEF',\n",
       " 'jet_neHEF',\n",
       " 'jet_nConstituents',\n",
       " 'jet_id',\n",
       " 'jet_puid',\n",
       " 'jet_partonFlav',\n",
       " 'jet_hadronFlav',\n",
       " 'b_6j_score',\n",
       " 'n_pu',\n",
       " 'n_true_int',\n",
       " 'lhe_ht',\n",
       " 'btagSF_WP_M',\n",
       " 'n_genjet',\n",
       " 'genjet_E',\n",
       " 'genjet_m',\n",
       " 'genjet_pt',\n",
       " 'genjet_eta',\n",
       " 'genjet_phi',\n",
       " 'genjet_partonFlav',\n",
       " 'genjet_hadronFlav',\n",
       " 'genjet_signalId',\n",
       " 'genjet_recoIdx',\n",
       " 'genpb_m',\n",
       " 'genpb_pt',\n",
       " 'genpb_eta',\n",
       " 'genpb_phi',\n",
       " 'sphericity',\n",
       " 'sphericity_t',\n",
       " 'aplanarity',\n",
       " 'HLT_PFHT330PT30_QuadPFJet_75_60_45_40_TriplePFBTagDeepCSV_4p5',\n",
       " 'HLT_PFHT330PT30_QuadPFJet_75_60_45_40_TriplePFBTagDeepCSV_4p5_ObjectMatched']"
      ]
     },
     "execution_count": 2,
     "metadata": {},
     "output_type": "execute_result"
    }
   ],
   "source": [
    "import uproot\n",
    "ttbar = uproot.open(\"/eos/uscms/store/user/srosenzw/sixb/ntuples/Summer2018UL/maxbtag_4b/TTJets/TTJets_TuneCP5_13TeV-amcatnloFXFX-pythia8/ntuple.root\")\n",
    "ttbar = ttbar['sixBtree']\n",
    "ttbar.keys()"
   ]
  },
  {
   "cell_type": "code",
   "execution_count": 16,
   "metadata": {},
   "outputs": [
    {
     "name": "stdout",
     "output_type": "stream",
     "text": [
      "\u001b[2;36m[21:16:16]\u001b[0m\u001b[2;36m \u001b[0m\u001b[36mLoading \u001b[0m                                                 \u001b]8;id=130258;file:///uscms/home/srosenzw/nobackup/workarea/higgs/sixb_analysis/CMSSW_10_6_19_patch2/src/sixb/utils/analysis/signal.py\u001b\\\u001b[2msignal.py\u001b[0m\u001b]8;;\u001b\\\u001b[2m:\u001b[0m\u001b]8;id=326811;file:///uscms/home/srosenzw/nobackup/workarea/higgs/sixb_analysis/CMSSW_10_6_19_patch2/src/sixb/utils/analysis/signal.py#92\u001b\\\u001b[2m92\u001b[0m\u001b]8;;\u001b\\\n",
      "\u001b[2;36m           \u001b[0m\u001b[36mSummer2018UL/maxbtag_4b/Official_NMSSM/NMSSM_XToYHTo6B_M\u001b[0m \u001b[2m            \u001b[0m\n",
      "\u001b[2;36m           \u001b[0m\u001b[36mX-950_MY-800_TuneCP5_13TeV-madgraph-pythia8/ntuple.root\u001b[0m\u001b[36m.\u001b[0m \u001b[2m            \u001b[0m\n",
      "\u001b[2;36m           \u001b[0m\u001b[36m..\u001b[0m                                                       \u001b[2m            \u001b[0m\n"
     ]
    },
    {
     "data": {
      "text/plain": [
       "0.08961"
      ]
     },
     "execution_count": 16,
     "metadata": {},
     "output_type": "execute_result"
    }
   ],
   "source": [
    "tree = SixB(\"/eos/uscms/store/user/srosenzw/sixb/ntuples/Summer2018UL/maxbtag_4b/Official_NMSSM/NMSSM_XToYHTo6B_MX-950_MY-800_TuneCP5_13TeV-madgraph-pythia8/ntuple.root\", feyn=False)\n",
    "tree.scale"
   ]
  },
  {
   "cell_type": "code",
   "execution_count": 6,
   "metadata": {},
   "outputs": [
    {
     "name": "stdout",
     "output_type": "stream",
     "text": [
      "['h_cutflow;1', 'h_cutflow_unweighted;1', 'n_ele;1', 'n_mu;1', 'n_presel_jet;1', 'sixBtree;1']\n"
     ]
    },
    {
     "data": {
      "text/plain": [
       "(<Array [0.806, 0.777, 0.662, ..., 0.771, 0.691, 1.33] type='116 * float64'>,\n",
       " <Array [0.857, 0.82, 0.75, 0.939, ..., 0.815, 0.79, 1.18] type='116 * float64'>,\n",
       " <Array [0.91, 0.865, 0.847, ..., 0.861, 0.899, 1.03] type='116 * float64'>)"
      ]
     },
     "execution_count": 6,
     "metadata": {},
     "output_type": "execute_result"
    }
   ],
   "source": [
    "import uproot\n",
    "f = uproot.open(\"output.root\")\n",
    "t = f['sixBtree']\n",
    "t['genWeight'].array()\n",
    "t['PUIDWeight_down'].array(), t['PUIDWeight'].array(), t['PUIDWeight_up'].array()"
   ]
  },
  {
   "cell_type": "code",
   "execution_count": 7,
   "metadata": {},
   "outputs": [
    {
     "data": {
      "text/plain": [
       "(0.3333333333333333,\n",
       " <Array [5.52e+03, 5.52e+03, -5.52e+03] type='3 * float32'>)"
      ]
     },
     "execution_count": 7,
     "metadata": {},
     "output_type": "execute_result"
    }
   ],
   "source": [
    "# t['genWeight'].array()[0]*59740*1.0 * (5.824E-01)**3\n",
    "genWeight = t['genWeight'].array()\n",
    "np.sum(genWeight < 0) / len(genWeight), genWeight"
   ]
  },
  {
   "cell_type": "code",
   "execution_count": null,
   "metadata": {},
   "outputs": [],
   "source": []
  },
  {
   "cell_type": "code",
   "execution_count": 1,
   "metadata": {},
   "outputs": [],
   "source": [
    "import uproot\n",
    "f = uproot.open(\"data/puid/PUID_106XTraining_ULRun2_EffSFandUncties_v1.root\")"
   ]
  },
  {
   "cell_type": "code",
   "execution_count": 2,
   "metadata": {},
   "outputs": [
    {
     "data": {
      "text/plain": [
       "['h2_eff_mcUL2018_L;1',\n",
       " 'h2_eff_mcUL2018_M;1',\n",
       " 'h2_eff_mcUL2018_T;1',\n",
       " 'h2_eff_sfUL2018_L;1',\n",
       " 'h2_eff_sfUL2018_M;1',\n",
       " 'h2_eff_sfUL2018_T;1',\n",
       " 'h2_eff_sfUL2018_L_Systuncty;1',\n",
       " 'h2_eff_sfUL2018_M_Systuncty;1',\n",
       " 'h2_eff_sfUL2018_T_Systuncty;1']"
      ]
     },
     "execution_count": 2,
     "metadata": {},
     "output_type": "execute_result"
    }
   ],
   "source": [
    "[key for key in f.keys() if '2018' in key]"
   ]
  },
  {
   "cell_type": "code",
   "execution_count": 4,
   "metadata": {},
   "outputs": [
    {
     "data": {
      "text/plain": [
       "<TH2F (version 4) at 0x7f08bae8f580>"
      ]
     },
     "execution_count": 4,
     "metadata": {},
     "output_type": "execute_result"
    }
   ],
   "source": [
    "f['h2_eff_sfUL2018_T']"
   ]
  },
  {
   "cell_type": "code",
   "execution_count": 7,
   "metadata": {},
   "outputs": [
    {
     "data": {
      "text/plain": [
       "((array([[0.7864, 0.7586, 0.7022, 0.653 , 0.7043, 0.7893, 0.78  , 0.7025,\n",
       "          0.6351, 0.7541, 0.7509, 0.7863],\n",
       "         [0.8731, 0.8022, 0.7945, 0.7411, 0.792 , 0.8613, 0.8539, 0.7952,\n",
       "          0.7408, 0.7967, 0.8169, 0.8788],\n",
       "         [0.8471, 0.772 , 0.7777, 0.6385, 0.7123, 0.8227, 0.8155, 0.7198,\n",
       "          0.6233, 0.7919, 0.7706, 0.8432],\n",
       "         [0.8455, 0.7558, 0.7665, 0.5697, 0.6713, 0.8   , 0.7929, 0.6623,\n",
       "          0.5605, 0.7717, 0.7727, 0.8425]], dtype=float32),\n",
       "  array([20., 25., 30., 40., 50.]),\n",
       "  array([-5.   , -3.   , -2.75 , -2.5  , -2.   , -1.479,  0.   ,  1.479,\n",
       "          2.   ,  2.5  ,  2.75 ,  3.   ,  5.   ])),\n",
       " (array([[0.9123855 , 0.9777221 , 1.005554  , 0.89203674, 0.93766856,\n",
       "          0.9437476 , 0.94923085, 0.92740214, 0.90410954, 0.89696324,\n",
       "          0.9484619 , 0.9306881 ],\n",
       "         [0.9325392 , 0.97693837, 0.98653245, 0.93766016, 0.9598485 ,\n",
       "          0.96679443, 0.9700199 , 0.9488179 , 0.9214363 , 0.95832807,\n",
       "          0.9412412 , 0.92705965],\n",
       "         [0.93235743, 0.95945597, 0.98919886, 0.9146437 , 0.94454587,\n",
       "          0.96778893, 0.97057015, 0.93484306, 0.91721475, 0.952393  ,\n",
       "          0.93368804, 0.9346537 ],\n",
       "         [0.94795984, 0.9679809 , 1.0060012 , 0.8874846 , 0.9320721 ,\n",
       "          0.96150005, 0.9644343 , 0.93854743, 0.89366627, 0.96073604,\n",
       "          0.9314093 , 0.95002973]], dtype=float32),\n",
       "  array([20., 25., 30., 40., 50.]),\n",
       "  array([-5.   , -3.   , -2.75 , -2.5  , -2.   , -1.479,  0.   ,  1.479,\n",
       "          2.   ,  2.5  ,  2.75 ,  3.   ,  5.   ])),\n",
       " (array([[0.0323925 , 0.04039231, 0.09665127, 0.02678927, 0.02556146,\n",
       "          0.01558545, 0.0146064 , 0.02759208, 0.04687976, 0.04370617,\n",
       "          0.03025473, 0.03403477],\n",
       "         [0.03435612, 0.02743861, 0.01892955, 0.05124637, 0.03334654,\n",
       "          0.0113355 , 0.01098126, 0.03867351, 0.06364732, 0.02605189,\n",
       "          0.0492042 , 0.04207485],\n",
       "         [0.02425824, 0.02266584, 0.00908271, 0.03524931, 0.01732787,\n",
       "          0.00750505, 0.00822607, 0.01920368, 0.03296187, 0.02169899,\n",
       "          0.01808678, 0.02479821],\n",
       "         [0.02412963, 0.01913401, 0.0192301 , 0.03280431, 0.03658193,\n",
       "          0.01010025, 0.00645307, 0.03746806, 0.03860504, 0.03357414,\n",
       "          0.02615143, 0.02573367]], dtype=float32),\n",
       "  array([20., 25., 30., 40., 50.]),\n",
       "  array([-5.   , -3.   , -2.75 , -2.5  , -2.   , -1.479,  0.   ,  1.479,\n",
       "          2.   ,  2.5  ,  2.75 ,  3.   ,  5.   ])))"
      ]
     },
     "execution_count": 7,
     "metadata": {},
     "output_type": "execute_result"
    }
   ],
   "source": [
    "f['h2_eff_mcUL2018_T'].to_numpy(), f['h2_eff_sfUL2018_T'].to_numpy(), f['h2_eff_sfUL2018_T_Systuncty'].to_numpy()"
   ]
  },
  {
   "cell_type": "code",
   "execution_count": null,
   "metadata": {},
   "outputs": [],
   "source": []
  }
 ],
 "metadata": {
  "kernelspec": {
   "display_name": "Python 3",
   "language": "python",
   "name": "python3"
  },
  "language_info": {
   "codemirror_mode": {
    "name": "ipython",
    "version": 3
   },
   "file_extension": ".py",
   "mimetype": "text/x-python",
   "name": "python",
   "nbconvert_exporter": "python",
   "pygments_lexer": "ipython3",
   "version": "3.9.18"
  }
 },
 "nbformat": 4,
 "nbformat_minor": 2
}
