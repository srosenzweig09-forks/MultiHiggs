{
 "cells": [
  {
   "cell_type": "code",
   "execution_count": 1,
   "metadata": {},
   "outputs": [],
   "source": [
    "import uproot\n",
    "import awkward"
   ]
  },
  {
   "cell_type": "code",
   "execution_count": 10,
   "metadata": {},
   "outputs": [],
   "source": [
    "lumi_2018 = 'data/lumi_cert/Cert_314472-325175_13TeV_Legacy2018_Collisions18_JSON.txt'\n",
    "lumi_2017 = 'data/lumi_cert/Cert_294927-306462_13TeV_UL2017_Collisions17_GoldenJSON.txt'\n",
    "lumi_2016 = 'data/lumi_cert/Cert_271036-284044_13TeV_Legacy2016_Collisions16_JSON.txt'"
   ]
  },
  {
   "cell_type": "code",
   "execution_count": 2,
   "metadata": {},
   "outputs": [],
   "source": [
    "f_2018 = 'input/Run2_UL/RunIISummer20UL18NanoAODv9/JetHT_Run2018Z.txt'\n",
    "A_2018 = f_2018.replace('Z', 'A')\n",
    "B_2018 = f_2018.replace('Z', 'B')\n",
    "C_2018 = f_2018.replace('Z', 'C')\n",
    "D_2018 = f_2018.replace('Z', 'D')"
   ]
  },
  {
   "cell_type": "code",
   "execution_count": 2,
   "metadata": {},
   "outputs": [],
   "source": [
    "f_2017 = 'input/Run2_UL/RunIISummer20UL17NanoAODv9/BTagCSV_Run2017Z.txt'\n",
    "B_2017 = f_2017.replace('Z', 'B')\n",
    "C_2017 = f_2017.replace('Z', 'C')\n",
    "D_2017 = f_2017.replace('Z', 'D')\n",
    "E_2017 = f_2017.replace('Z', 'E')\n",
    "F_2017 = f_2017.replace('Z', 'F')"
   ]
  },
  {
   "cell_type": "code",
   "execution_count": null,
   "metadata": {},
   "outputs": [],
   "source": [
    "f_2016pre = 'input/Run2_UL/RunIISummer20UL16NanoAODv9/preVFP/BTagCSV_Run2016Z_HIPM.txt'\n",
    "B1_2016pre = f_2016pre.replace('Z', 'B_ver1')\n",
    "B2_2016pre = f_2016pre.replace('Z', 'B_ver2')\n",
    "C_2016pre = f_2016pre.replace('Z', 'C')\n",
    "D_2016pre = f_2016pre.replace('Z', 'D')\n",
    "E_2016pre = f_2016pre.replace('Z', 'E')\n",
    "F_2016pre = f_2016pre.replace('Z', 'F')"
   ]
  },
  {
   "cell_type": "code",
   "execution_count": null,
   "metadata": {},
   "outputs": [],
   "source": [
    "f_2016post = 'input/Run2_UL/RunIISummer20UL16NanoAODv9/BTagCSV_Run2016Z.txt'\n",
    "F_2016post = f_2016post.replace('Z', 'F')\n",
    "G_2016post = f_2016post.replace('Z', 'G')\n",
    "H_2016post = f_2016post.replace('Z', 'H')"
   ]
  },
  {
   "cell_type": "code",
   "execution_count": 14,
   "metadata": {},
   "outputs": [
    {
     "name": "stdout",
     "output_type": "stream",
     "text": [
      "[INFO] .. reading file: /eos/uscms/store/data/Run2017B/BTagCSV/NANOAOD/UL2017_MiniAODv1_NanoAODv2-v1/270000/007E779F-8B0D-074C-A339-FA5E621130F4.root\n",
      "\n",
      "[INFO] .. reading file: /eos/uscms/store/data/Run2017B/BTagCSV/NANOAOD/UL2017_MiniAODv1_NanoAODv2-v1/270000/682F23AE-8090-314B-AA23-3794BF788369.root\n",
      "\n",
      "[INFO] .. reading file: /eos/uscms/store/data/Run2017B/BTagCSV/NANOAOD/UL2017_MiniAODv1_NanoAODv2-v1/270000/EAE1D84B-1457-244F-A8E2-B661CA9035C6.root\n",
      "\n",
      "[INFO] .. reading file: /eos/uscms/store/data/Run2017B/BTagCSV/NANOAOD/UL2017_MiniAODv1_NanoAODv2-v1/280000/874FDE35-768D-754C-8CC0-2500BF84C298.root\n",
      "\n"
     ]
    }
   ],
   "source": [
    "with open(B_2017) as f:\n",
    "    files = f.readlines()\n",
    "files = [f.replace('root://cmsxrootd.fnal.gov/', '/eos/uscms') for f in files]\n",
    "\n",
    "runs = np.array(())\n",
    "for f in files:\n",
    "    print(f\"[INFO] .. reading file: {f}\")\n",
    "    t = uproot.open(f\"{f}:Runs\")\n",
    "    runs = np.append(runs, t['run'].array(library='np'))"
   ]
  },
  {
   "cell_type": "code",
   "execution_count": 15,
   "metadata": {},
   "outputs": [
    {
     "data": {
      "text/plain": [
       "(297047, 299329)"
      ]
     },
     "execution_count": 15,
     "metadata": {},
     "output_type": "execute_result"
    }
   ],
   "source": [
    "int(runs.min()), int(runs.max())"
   ]
  },
  {
   "cell_type": "code",
   "execution_count": 20,
   "metadata": {},
   "outputs": [
    {
     "name": "stdout",
     "output_type": "stream",
     "text": [
      "brilcalc lumi -c web --begin 297047 --end 299329 -i data/lumi_cert/Cert_294927-306462_13TeV_UL2017_Collisions17_GoldenJSON.txt\n"
     ]
    }
   ],
   "source": [
    "cmd = f'brilcalc lumi -c web --begin {int(runs.min())} --end {int(runs.max())} -i {lumi_2017}'\n",
    "print(cmd)"
   ]
  },
  {
   "cell_type": "code",
   "execution_count": null,
   "metadata": {},
   "outputs": [],
   "source": []
  }
 ],
 "metadata": {
  "kernelspec": {
   "display_name": "sixb",
   "language": "python",
   "name": "python3"
  },
  "language_info": {
   "codemirror_mode": {
    "name": "ipython",
    "version": 3
   },
   "file_extension": ".py",
   "mimetype": "text/x-python",
   "name": "python",
   "nbconvert_exporter": "python",
   "pygments_lexer": "ipython3",
   "version": "3.9.18"
  }
 },
 "nbformat": 4,
 "nbformat_minor": 2
}
